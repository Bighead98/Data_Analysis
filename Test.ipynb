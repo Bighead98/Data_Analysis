{
 "cells": [
  {
   "cell_type": "code",
   "execution_count": 2,
   "metadata": {},
   "outputs": [],
   "source": [
    "%matplotlib inline\n",
    "\n",
    "import numpy as np\n",
    "import matplotlib.pyplot as plt\n",
    "import pandas as pd"
   ]
  },
  {
   "cell_type": "code",
   "execution_count": 3,
   "metadata": {},
   "outputs": [
    {
     "data": {
      "text/html": [
       "<div>\n",
       "<style scoped>\n",
       "    .dataframe tbody tr th:only-of-type {\n",
       "        vertical-align: middle;\n",
       "    }\n",
       "\n",
       "    .dataframe tbody tr th {\n",
       "        vertical-align: top;\n",
       "    }\n",
       "\n",
       "    .dataframe thead th {\n",
       "        text-align: right;\n",
       "    }\n",
       "</style>\n",
       "<table border=\"1\" class=\"dataframe\">\n",
       "  <thead>\n",
       "    <tr style=\"text-align: right;\">\n",
       "      <th></th>\n",
       "      <th>State</th>\n",
       "      <th>Percent Cigarette Smokers CDC 2006 Data (except AZ and WI)</th>\n",
       "    </tr>\n",
       "  </thead>\n",
       "  <tbody>\n",
       "    <tr>\n",
       "      <th>45</th>\n",
       "      <td>Wyoming</td>\n",
       "      <td>140</td>\n",
       "    </tr>\n",
       "    <tr>\n",
       "      <th>22</th>\n",
       "      <td>Montana</td>\n",
       "      <td>180</td>\n",
       "    </tr>\n",
       "    <tr>\n",
       "      <th>37</th>\n",
       "      <td>South Dakota</td>\n",
       "      <td>190</td>\n",
       "    </tr>\n",
       "    <tr>\n",
       "      <th>30</th>\n",
       "      <td>North Dakota</td>\n",
       "      <td>230</td>\n",
       "    </tr>\n",
       "    <tr>\n",
       "      <th>27</th>\n",
       "      <td>New Mexico</td>\n",
       "      <td>230</td>\n",
       "    </tr>\n",
       "  </tbody>\n",
       "</table>\n",
       "</div>"
      ],
      "text/plain": [
       "           State   Percent Cigarette Smokers CDC 2006 Data (except AZ and WI)\n",
       "45       Wyoming                                                140          \n",
       "22       Montana                                                180          \n",
       "37  South Dakota                                                190          \n",
       "30  North Dakota                                                230          \n",
       "27    New Mexico                                                230          "
      ]
     },
     "execution_count": 3,
     "metadata": {},
     "output_type": "execute_result"
    }
   ],
   "source": [
    "air_pollution = pd.read_csv('./Air_Pollution_Data.csv', sep = ',')\n",
    "air_pollution = air_pollution.sort_values(by = air_pollution.columns[1],\n",
    "                                          ascending = True)\n",
    "air_pollution.head(5)"
   ]
  },
  {
   "cell_type": "code",
   "execution_count": 4,
   "metadata": {},
   "outputs": [
    {
     "data": {
      "text/html": [
       "<div>\n",
       "<style scoped>\n",
       "    .dataframe tbody tr th:only-of-type {\n",
       "        vertical-align: middle;\n",
       "    }\n",
       "\n",
       "    .dataframe tbody tr th {\n",
       "        vertical-align: top;\n",
       "    }\n",
       "\n",
       "    .dataframe thead th {\n",
       "        text-align: right;\n",
       "    }\n",
       "</style>\n",
       "<table border=\"1\" class=\"dataframe\">\n",
       "  <thead>\n",
       "    <tr style=\"text-align: right;\">\n",
       "      <th></th>\n",
       "      <th>State</th>\n",
       "      <th>Percent Cigarette Smokers CDC 2006 Data (except AZ and WI)</th>\n",
       "    </tr>\n",
       "  </thead>\n",
       "  <tbody>\n",
       "    <tr>\n",
       "      <th>40</th>\n",
       "      <td>Utah</td>\n",
       "      <td>9.8</td>\n",
       "    </tr>\n",
       "    <tr>\n",
       "      <th>2</th>\n",
       "      <td>California</td>\n",
       "      <td>14.9</td>\n",
       "    </tr>\n",
       "    <tr>\n",
       "      <th>8</th>\n",
       "      <td>Idaho</td>\n",
       "      <td>16.8</td>\n",
       "    </tr>\n",
       "    <tr>\n",
       "      <th>4</th>\n",
       "      <td>Connecticut</td>\n",
       "      <td>17.0</td>\n",
       "    </tr>\n",
       "    <tr>\n",
       "      <th>43</th>\n",
       "      <td>Washington</td>\n",
       "      <td>17.1</td>\n",
       "    </tr>\n",
       "  </tbody>\n",
       "</table>\n",
       "</div>"
      ],
      "text/plain": [
       "          State   Percent Cigarette Smokers CDC 2006 Data (except AZ and WI)\n",
       "40         Utah                                                9.8          \n",
       "2    California                                               14.9          \n",
       "8         Idaho                                               16.8          \n",
       "4   Connecticut                                               17.0          \n",
       "43   Washington                                               17.1          "
      ]
     },
     "execution_count": 4,
     "metadata": {},
     "output_type": "execute_result"
    }
   ],
   "source": [
    "cigar = pd.read_csv('./CDC_Cigarette_Smoking_Data.csv', sep = ',')\n",
    "cigar = cigar.sort_values(by = cigar.columns[1],\n",
    "                          ascending = True)\n",
    "cigar.head(5)"
   ]
  },
  {
   "cell_type": "code",
   "execution_count": 5,
   "metadata": {},
   "outputs": [
    {
     "data": {
      "text/html": [
       "<div>\n",
       "<style scoped>\n",
       "    .dataframe tbody tr th:only-of-type {\n",
       "        vertical-align: middle;\n",
       "    }\n",
       "\n",
       "    .dataframe tbody tr th {\n",
       "        vertical-align: top;\n",
       "    }\n",
       "\n",
       "    .dataframe thead th {\n",
       "        text-align: right;\n",
       "    }\n",
       "</style>\n",
       "<table border=\"1\" class=\"dataframe\">\n",
       "  <thead>\n",
       "    <tr style=\"text-align: right;\">\n",
       "      <th></th>\n",
       "      <th>Cases Lung Cancer per 100000 CDC Data 2006 (except AZ and WI)</th>\n",
       "      <th>Unnamed: 1</th>\n",
       "    </tr>\n",
       "  </thead>\n",
       "  <tbody>\n",
       "    <tr>\n",
       "      <th>40</th>\n",
       "      <td>Utah</td>\n",
       "      <td>28.0</td>\n",
       "    </tr>\n",
       "    <tr>\n",
       "      <th>27</th>\n",
       "      <td>New Mexico</td>\n",
       "      <td>43.9</td>\n",
       "    </tr>\n",
       "    <tr>\n",
       "      <th>3</th>\n",
       "      <td>Colorado</td>\n",
       "      <td>48.4</td>\n",
       "    </tr>\n",
       "    <tr>\n",
       "      <th>45</th>\n",
       "      <td>Wyoming</td>\n",
       "      <td>48.9</td>\n",
       "    </tr>\n",
       "    <tr>\n",
       "      <th>2</th>\n",
       "      <td>California</td>\n",
       "      <td>51.6</td>\n",
       "    </tr>\n",
       "  </tbody>\n",
       "</table>\n",
       "</div>"
      ],
      "text/plain": [
       "   Cases Lung Cancer per 100000 CDC Data 2006 (except AZ and WI)  Unnamed: 1\n",
       "40                                               Utah                   28.0\n",
       "27                                         New Mexico                   43.9\n",
       "3                                            Colorado                   48.4\n",
       "45                                            Wyoming                   48.9\n",
       "2                                          California                   51.6"
      ]
     },
     "execution_count": 5,
     "metadata": {},
     "output_type": "execute_result"
    }
   ],
   "source": [
    "cancer = pd.read_csv('./CDC_Lung_Cancer_Data.csv', sep = ',')\n",
    "cancer = cancer.sort_values(by = cancer.columns[1],\n",
    "                           ascending = True)\n",
    "cancer.head(5)"
   ]
  },
  {
   "cell_type": "code",
   "execution_count": 20,
   "metadata": {},
   "outputs": [
    {
     "data": {
      "image/png": "[encoded data removed]",
      "text/plain": [
       "<Figure size 1000x250 with 1 Axes>"
      ]
     },
     "metadata": {
      "needs_background": "light"
     },
     "output_type": "display_data"
    }
   ],
   "source": [
    "X = cancer[cancer.columns[0]].values[:15].tolist()\n",
    "Y = cancer[cancer.columns[1]].values[:15].tolist()\n",
    "\n",
    "\n",
    "plt.bar(X, Y, align='center')\n",
    "plt.ylabel('Cancer Rate')\n",
    "plt.xlabel('States')\n",
    "plt.title('Cancer rate of U.S.A.')\n",
    "plt.rcParams[\"figure.figsize\"] = [20, 5]\n",
    "plt.rcParams[\"figure.dpi\"] = 100\n",
    "plt.show()"
   ]
  },
  {
   "cell_type": "code",
   "execution_count": 17,
   "metadata": {},
   "outputs": [
    {
     "data": {
      "image/png": "[encoded data removed]",
      "text/plain": [
       "<Figure size 1000x250 with 1 Axes>"
      ]
     },
     "metadata": {
      "needs_background": "light"
     },
     "output_type": "display_data"
    }
   ],
   "source": [
    "h = cigar[cigar.columns[1]].values.tolist()\n",
    "plt.hist(h,bins=5)\n",
    "plt.ylabel('counts')\n",
    "plt.title('Histogram of Cigar')\n",
    "\n",
    "plt.show()"
   ]
  },
  {
   "cell_type": "code",
   "execution_count": 21,
   "metadata": {},
   "outputs": [
    {
     "data": {
      "image/png": "[encoded data removed]",
      "text/plain": [
       "<Figure size 2000x500 with 1 Axes>"
      ]
     },
     "metadata": {},
     "output_type": "display_data"
    }
   ],
   "source": [
    "ratio = air_pollution[air_pollution.columns[1]].values[40:].tolist()\n",
    "labels = air_pollution[air_pollution.columns[0]].values[40:].tolist()\n",
    "\n",
    "plt.pie(ratio,labels=labels, autopct='%.1f%%', startangle=260)\n",
    "plt.show()"
   ]
  },
  {
   "cell_type": "code",
   "execution_count": 23,
   "metadata": {},
   "outputs": [
    {
     "name": "stdout",
     "output_type": "stream",
     "text": [
      "556.0869565217391\n",
      "320.44745286600295\n"
     ]
    }
   ],
   "source": [
    "ret1=air_pollution.mean()\n",
    "print(float(ret1))\n",
    "ret2=air_pollution.std()\n",
    "print(float(ret2))"
   ]
  },
  {
   "cell_type": "code",
   "execution_count": 161,
   "metadata": {},
   "outputs": [],
   "source": [
    "from sklearn import linear_model\n",
    "from sklearn.model_selection import train_test_split\n",
    "from sklearn.metrics import mean_squared_error\n",
    "from math import sqrt"
   ]
  },
  {
   "cell_type": "code",
   "execution_count": 162,
   "metadata": {},
   "outputs": [],
   "source": [
    "air_pollution = pd.read_csv('./Air_Pollution_Data.csv', sep = ',')\n",
    "cigar = pd.read_csv('./CDC_Cigarette_Smoking_Data.csv', sep = ',')\n",
    "cancer = pd.read_csv('./CDC_Lung_Cancer_Data.csv', sep = ',')\n",
    "\n",
    "Y = cancer[cancer.columns[1]]\n",
    "X = pd.merge(air_pollution,cigar,how='outer',on='State')\n",
    "X = X[X.columns.difference([X.columns[0]])]\n",
    "X_train, X_test, y_train, y_test = train_test_split(X, Y, test_size=0.2,random_state=19)"
   ]
  },
  {
   "cell_type": "code",
   "execution_count": 163,
   "metadata": {},
   "outputs": [
    {
     "name": "stdout",
     "output_type": "stream",
     "text": [
      "[0.00728302 3.1901009 ]\n"
     ]
    }
   ],
   "source": [
    "lr = linear_model.LinearRegression()\n",
    "model = lr.fit(X_train, y_train)\n",
    "\n",
    "print(lr.coef_)"
   ]
  },
  {
   "cell_type": "code",
   "execution_count": 164,
   "metadata": {},
   "outputs": [
    {
     "data": {
      "image/png": "[encoded data removed]",
      "text/plain": [
       "<Figure size 2000x500 with 1 Axes>"
      ]
     },
     "metadata": {
      "needs_background": "light"
     },
     "output_type": "display_data"
    }
   ],
   "source": [
    "X = [\"Air_Pollution\", \"Cigar\"]\n",
    "Y = lr.coef_\n",
    "plt.bar(X,Y,align='center')\n",
    "plt.show()"
   ]
  },
  {
   "cell_type": "code",
   "execution_count": 165,
   "metadata": {},
   "outputs": [
    {
     "name": "stdout",
     "output_type": "stream",
     "text": [
      "0.6136190189873243\n",
      "0.8618393681155727\n"
     ]
    }
   ],
   "source": [
    "print(model.score(X_train,y_train))\n",
    "print(model.score(X_test,y_test))"
   ]
  },
  {
   "cell_type": "code",
   "execution_count": 166,
   "metadata": {},
   "outputs": [],
   "source": [
    "air_pollution = pd.read_csv('./Air_Pollution_Data.csv', sep = ',')\n",
    "cigar = pd.read_csv('./CDC_Cigarette_Smoking_Data.csv', sep = ',')\n",
    "cancer = pd.read_csv('./CDC_Lung_Cancer_Data.csv', sep = ',')\n",
    "\n",
    "air_pollution[air_pollution.columns[1]] = (air_pollution[air_pollution.columns[1]] \n",
    "                                           - air_pollution[air_pollution.columns[1]].min())/(air_pollution[air_pollution.columns[1]].max()-air_pollution[air_pollution.columns[1]].min())\n",
    "cigar[cigar.columns[1]] = (cigar[cigar.columns[1]] \n",
    "                                           - cigar[cigar.columns[1]].min())/(cigar[cigar.columns[1]].max()-cigar[cigar.columns[1]].min())\n",
    "cancer[cancer.columns[1]] = (cancer[cancer.columns[1]] \n",
    "                                           - cancer[cancer.columns[1]].min())/(cancer[cancer.columns[1]].max()-cancer[cancer.columns[1]].min())\n",
    "\n",
    "\n",
    "Y = cancer[cancer.columns[1]]\n",
    "X = pd.merge(air_pollution,cigar,how='outer',on='State')\n",
    "X = X[X.columns.difference([X.columns[0]])]\n",
    "X_train, X_test, y_train, y_test = train_test_split(X, Y, test_size=0.2,random_state=19)\n"
   ]
  },
  {
   "cell_type": "code",
   "execution_count": 167,
   "metadata": {},
   "outputs": [
    {
     "name": "stdout",
     "output_type": "stream",
     "text": [
      "[0.1852329  0.86667481]\n"
     ]
    }
   ],
   "source": [
    "lr = linear_model.LinearRegression()\n",
    "model = lr.fit(X_train, y_train)\n",
    "\n",
    "print(lr.coef_)"
   ]
  },
  {
   "cell_type": "code",
   "execution_count": 168,
   "metadata": {},
   "outputs": [
    {
     "data": {
      "image/png": "[encoded data removed]",
      "text/plain": [
       "<Figure size 2000x500 with 1 Axes>"
      ]
     },
     "metadata": {
      "needs_background": "light"
     },
     "output_type": "display_data"
    }
   ],
   "source": [
    "X = [\"Air_Pollution\", \"Cigar\"]\n",
    "Y = lr.coef_\n",
    "plt.bar(X,Y,align='center')\n",
    "plt.show()"
   ]
  },
  {
   "cell_type": "code",
   "execution_count": 169,
   "metadata": {},
   "outputs": [
    {
     "name": "stdout",
     "output_type": "stream",
     "text": [
      "0.6136190189873243\n",
      "0.8618393681155734\n"
     ]
    }
   ],
   "source": [
    "print(model.score(X_train,y_train))\n",
    "print(model.score(X_test,y_test))"
   ]
  },
  {
   "cell_type": "code",
   "execution_count": null,
   "metadata": {},
   "outputs": [],
   "source": []
  }
 ],
 "metadata": {
  "kernelspec": {
   "display_name": "Python 3",
   "language": "python",
   "name": "python3"
  },
  "language_info": {
   "codemirror_mode": {
    "name": "ipython",
    "version": 3
   },
   "file_extension": ".py",
   "mimetype": "text/x-python",
   "name": "python",
   "nbconvert_exporter": "python",
   "pygments_lexer": "ipython3",
   "version": "3.8.3"
  }
 },
 "nbformat": 4,
 "nbformat_minor": 4
}
